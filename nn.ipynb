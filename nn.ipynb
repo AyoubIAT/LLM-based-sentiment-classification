{
 "cells": [
  {
   "cell_type": "markdown",
   "metadata": {},
   "source": [
    "## Using a Neural Network"
   ]
  },
  {
   "cell_type": "code",
   "execution_count": 1,
   "metadata": {},
   "outputs": [],
   "source": [
    "import pandas as pd"
   ]
  },
  {
   "cell_type": "code",
   "execution_count": 2,
   "metadata": {},
   "outputs": [
    {
     "name": "stdout",
     "output_type": "stream",
     "text": [
      "                                                text  target  \\\n",
      "0  @switchfoot http://twitpic.com/2y1zl - Awww, t...       0   \n",
      "1  is upset that he can't update his Facebook by ...       0   \n",
      "2  @Kenichan I dived many times for the ball. Man...       0   \n",
      "3    my whole body feels itchy and like its on fire        0   \n",
      "4  @nationwideclass no, it's not behaving at all....       0   \n",
      "\n",
      "                                          clean_text  \\\n",
      "0     awww thats a bummer  you shoulda got david ...   \n",
      "1  is upset that he cant update his facebook by t...   \n",
      "2   i dived many times for the ball managed to sa...   \n",
      "3    my whole body feels itchy and like its on fire    \n",
      "4   no its not behaving at all im mad why am i he...   \n",
      "\n",
      "                                           embedding  \n",
      "0  [0.101073705, 0.14796087, 0.12037146, 0.226526...  \n",
      "1  [0.13524286, 0.036169093, 0.3622666, 0.0267785...  \n",
      "2  [0.034617905, -0.24725968, 0.18772389, 0.13896...  \n",
      "3  [0.078177616, 0.3227022, 0.59566224, -0.115340...  \n",
      "4  [-0.072213754, 0.3103284, 0.27269602, -0.06083...  \n"
     ]
    }
   ],
   "source": [
    "loaded_data = pd.read_pickle(\"data_with_embeddings.pkl\")\n",
    "print(loaded_data.head())"
   ]
  },
  {
   "cell_type": "code",
   "execution_count": 3,
   "metadata": {},
   "outputs": [],
   "source": [
    "from sklearn.model_selection import train_test_split"
   ]
  },
  {
   "cell_type": "code",
   "execution_count": 4,
   "metadata": {},
   "outputs": [],
   "source": [
    "X = list(loaded_data['embedding'])\n",
    "y = loaded_data['target']\n",
    "\n",
    "y = y.replace(4, 1) # Binary labels 0 or 1\n",
    "\n",
    "X_train, X_test, y_train, y_test = train_test_split(X, y, test_size=0.2, random_state=42)"
   ]
  },
  {
   "cell_type": "code",
   "execution_count": 5,
   "metadata": {},
   "outputs": [],
   "source": [
    "import numpy as np\n",
    "X_train = np.array(X_train)\n",
    "y_train = np.array(y_train)\n",
    "X_test = np.array(X_train)\n",
    "y_test = np.array(y_train)\n"
   ]
  },
  {
   "cell_type": "code",
   "execution_count": 6,
   "metadata": {},
   "outputs": [],
   "source": [
    "import torch\n",
    "import torch.nn as nn\n",
    "import torch.optim as optim\n",
    "from torch.utils.data import DataLoader, TensorDataset"
   ]
  },
  {
   "cell_type": "code",
   "execution_count": 7,
   "metadata": {},
   "outputs": [],
   "source": [
    "device = \"cuda\""
   ]
  },
  {
   "cell_type": "code",
   "execution_count": 8,
   "metadata": {},
   "outputs": [],
   "source": [
    "X_train_tensor = torch.tensor(X_train, dtype=torch.float32).to(device)\n",
    "y_train_tensor = torch.tensor(y_train, dtype=torch.float32).to(device)"
   ]
  },
  {
   "cell_type": "code",
   "execution_count": 9,
   "metadata": {},
   "outputs": [],
   "source": [
    "train_data = TensorDataset(X_train_tensor, y_train_tensor)\n",
    "train_loader = DataLoader(train_data, batch_size=128, shuffle=True)"
   ]
  },
  {
   "cell_type": "code",
   "execution_count": 10,
   "metadata": {},
   "outputs": [],
   "source": [
    "class NN(nn.Module):\n",
    "    def __init__(self, input_dim):\n",
    "        super(NN, self).__init__()\n",
    "        self.fc1 = nn.Linear(input_dim, 512)  \n",
    "        self.fc2 = nn.Linear(512, 256)         \n",
    "        self.fc3 = nn.Linear(256, 128)         \n",
    "        self.fc4 = nn.Linear(128, 64)          \n",
    "        self.fc5 = nn.Linear(64, 1)   \n",
    "        self.relu = nn.ReLU()\n",
    "        self.sigmoid = nn.Sigmoid()\n",
    "    \n",
    "    def forward(self, x):\n",
    "        x = self.relu(self.fc1(x))\n",
    "        x = self.relu(self.fc2(x))\n",
    "        x = self.relu(self.fc3(x))\n",
    "        x = self.relu(self.fc4(x))\n",
    "        x = self.fc5(x)\n",
    "        return self.sigmoid(x)"
   ]
  },
  {
   "cell_type": "code",
   "execution_count": 11,
   "metadata": {},
   "outputs": [],
   "source": [
    "model = NN(input_dim=len(X_train[0])).to(device)\n",
    "loss_function = nn.BCELoss()\n",
    "optimizer = optim.Adam(model.parameters(), lr=0.001)"
   ]
  },
  {
   "cell_type": "code",
   "execution_count": 12,
   "metadata": {},
   "outputs": [
    {
     "name": "stdout",
     "output_type": "stream",
     "text": [
      "Epoch 1, Loss: 0.360352098941803\n",
      "Epoch 2, Loss: 0.42877113819122314\n",
      "Epoch 3, Loss: 0.46368199586868286\n",
      "Epoch 4, Loss: 0.38883379101753235\n",
      "Epoch 5, Loss: 0.39311784505844116\n",
      "Epoch 6, Loss: 0.35143229365348816\n",
      "Epoch 7, Loss: 0.3930535316467285\n",
      "Epoch 8, Loss: 0.45335331559181213\n",
      "Epoch 9, Loss: 0.3166407346725464\n",
      "Epoch 10, Loss: 0.3235229551792145\n",
      "Epoch 11, Loss: 0.39220380783081055\n",
      "Epoch 12, Loss: 0.3487279415130615\n",
      "Epoch 13, Loss: 0.32577475905418396\n",
      "Epoch 14, Loss: 0.353398859500885\n",
      "Epoch 15, Loss: 0.39106348156929016\n",
      "Epoch 16, Loss: 0.38858458399772644\n",
      "Epoch 17, Loss: 0.3127692937850952\n",
      "Epoch 18, Loss: 0.34882497787475586\n",
      "Epoch 19, Loss: 0.3282110095024109\n",
      "Epoch 20, Loss: 0.36366939544677734\n",
      "Epoch 21, Loss: 0.35229742527008057\n",
      "Epoch 22, Loss: 0.36361876130104065\n",
      "Epoch 23, Loss: 0.3153032660484314\n",
      "Epoch 24, Loss: 0.422526478767395\n",
      "Epoch 25, Loss: 0.26071855425834656\n",
      "Epoch 26, Loss: 0.32859504222869873\n",
      "Epoch 27, Loss: 0.3802975118160248\n",
      "Epoch 28, Loss: 0.3436061143875122\n",
      "Epoch 29, Loss: 0.3054780960083008\n",
      "Epoch 30, Loss: 0.30853134393692017\n",
      "Epoch 31, Loss: 0.3990359306335449\n",
      "Epoch 32, Loss: 0.25586581230163574\n",
      "Epoch 33, Loss: 0.27169281244277954\n",
      "Epoch 34, Loss: 0.2498566210269928\n",
      "Epoch 35, Loss: 0.33830875158309937\n",
      "Epoch 36, Loss: 0.28782129287719727\n",
      "Epoch 37, Loss: 0.27505865693092346\n",
      "Epoch 38, Loss: 0.2290343940258026\n",
      "Epoch 39, Loss: 0.227889746427536\n",
      "Epoch 40, Loss: 0.20466184616088867\n",
      "Epoch 41, Loss: 0.21029892563819885\n",
      "Epoch 42, Loss: 0.3437345325946808\n",
      "Epoch 43, Loss: 0.22801774740219116\n",
      "Epoch 44, Loss: 0.2398715615272522\n",
      "Epoch 45, Loss: 0.19027240574359894\n",
      "Epoch 46, Loss: 0.2574089765548706\n",
      "Epoch 47, Loss: 0.20646028220653534\n",
      "Epoch 48, Loss: 0.24256792664527893\n",
      "Epoch 49, Loss: 0.25741150975227356\n",
      "Epoch 50, Loss: 0.3027632236480713\n",
      "Epoch 51, Loss: 0.3215164542198181\n",
      "Epoch 52, Loss: 0.22860516607761383\n",
      "Epoch 53, Loss: 0.2809355854988098\n",
      "Epoch 54, Loss: 0.3596159517765045\n",
      "Epoch 55, Loss: 0.28045958280563354\n",
      "Epoch 56, Loss: 0.24624547362327576\n",
      "Epoch 57, Loss: 0.23363780975341797\n",
      "Epoch 58, Loss: 0.21844404935836792\n",
      "Epoch 59, Loss: 0.34383100271224976\n",
      "Epoch 60, Loss: 0.36660993099212646\n",
      "Epoch 61, Loss: 0.2787027657032013\n",
      "Epoch 62, Loss: 0.22723188996315002\n",
      "Epoch 63, Loss: 0.2635268568992615\n",
      "Epoch 64, Loss: 0.22075730562210083\n",
      "Epoch 65, Loss: 0.2549365162849426\n",
      "Epoch 66, Loss: 0.25453153252601624\n",
      "Epoch 67, Loss: 0.2102428376674652\n",
      "Epoch 68, Loss: 0.22079351544380188\n",
      "Epoch 69, Loss: 0.2380109429359436\n",
      "Epoch 70, Loss: 0.302657812833786\n",
      "Epoch 71, Loss: 0.29013678431510925\n",
      "Epoch 72, Loss: 0.21726453304290771\n",
      "Epoch 73, Loss: 0.25659605860710144\n",
      "Epoch 74, Loss: 0.33438849449157715\n",
      "Epoch 75, Loss: 0.15234382450580597\n",
      "Epoch 76, Loss: 0.23021677136421204\n",
      "Epoch 77, Loss: 0.27249306440353394\n",
      "Epoch 78, Loss: 0.27866438031196594\n",
      "Epoch 79, Loss: 0.21168559789657593\n",
      "Epoch 80, Loss: 0.2954337000846863\n",
      "Epoch 81, Loss: 0.23335935175418854\n",
      "Epoch 82, Loss: 0.28517717123031616\n",
      "Epoch 83, Loss: 0.23928309977054596\n",
      "Epoch 84, Loss: 0.30750375986099243\n",
      "Epoch 85, Loss: 0.1544606238603592\n",
      "Epoch 86, Loss: 0.20932137966156006\n",
      "Epoch 87, Loss: 0.1649111807346344\n",
      "Epoch 88, Loss: 0.17779624462127686\n",
      "Epoch 89, Loss: 0.26881977915763855\n",
      "Epoch 90, Loss: 0.18489086627960205\n",
      "Epoch 91, Loss: 0.2568787932395935\n",
      "Epoch 92, Loss: 0.22789257764816284\n",
      "Epoch 93, Loss: 0.22861728072166443\n",
      "Epoch 94, Loss: 0.24915432929992676\n",
      "Epoch 95, Loss: 0.3094920516014099\n",
      "Epoch 96, Loss: 0.2133592665195465\n",
      "Epoch 97, Loss: 0.21869805455207825\n",
      "Epoch 98, Loss: 0.24105989933013916\n",
      "Epoch 99, Loss: 0.18398532271385193\n",
      "Epoch 100, Loss: 0.14409564435482025\n"
     ]
    }
   ],
   "source": [
    "num_epochs = 100\n",
    "for epoch in range(num_epochs):\n",
    "    model.train()\n",
    "    for batch in train_loader:\n",
    "        X_batch, y_batch = batch\n",
    "        X_batch, y_batch = X_batch.to(device), y_batch.to(device)\n",
    "        \n",
    "        optimizer.zero_grad()\n",
    "        outputs = model(X_batch)\n",
    "        loss = loss_function(outputs.squeeze(), y_batch)\n",
    "        loss.backward()\n",
    "        optimizer.step()\n",
    "    \n",
    "    print(f\"Epoch {epoch+1}, Loss: {loss.item()}\")"
   ]
  },
  {
   "cell_type": "code",
   "execution_count": 13,
   "metadata": {},
   "outputs": [],
   "source": [
    "from sklearn.metrics import accuracy_score"
   ]
  },
  {
   "cell_type": "code",
   "execution_count": 14,
   "metadata": {},
   "outputs": [
    {
     "data": {
      "text/plain": [
       "NN(\n",
       "  (fc1): Linear(in_features=768, out_features=512, bias=True)\n",
       "  (fc2): Linear(in_features=512, out_features=256, bias=True)\n",
       "  (fc3): Linear(in_features=256, out_features=128, bias=True)\n",
       "  (fc4): Linear(in_features=128, out_features=64, bias=True)\n",
       "  (fc5): Linear(in_features=64, out_features=1, bias=True)\n",
       "  (relu): ReLU()\n",
       "  (sigmoid): Sigmoid()\n",
       ")"
      ]
     },
     "execution_count": 14,
     "metadata": {},
     "output_type": "execute_result"
    }
   ],
   "source": [
    "model.eval()"
   ]
  },
  {
   "cell_type": "code",
   "execution_count": 1,
   "metadata": {},
   "outputs": [
    {
     "ename": "NameError",
     "evalue": "name 'torch' is not defined",
     "output_type": "error",
     "traceback": [
      "\u001b[1;31m---------------------------------------------------------------------------\u001b[0m",
      "\u001b[1;31mNameError\u001b[0m                                 Traceback (most recent call last)",
      "Cell \u001b[1;32mIn[1], line 1\u001b[0m\n\u001b[1;32m----> 1\u001b[0m X_test_tensor \u001b[38;5;241m=\u001b[39m \u001b[43mtorch\u001b[49m\u001b[38;5;241m.\u001b[39mtensor(X_test, dtype\u001b[38;5;241m=\u001b[39mtorch\u001b[38;5;241m.\u001b[39mfloat32)\u001b[38;5;241m.\u001b[39mto(device)\n\u001b[0;32m      2\u001b[0m y_test_tensor \u001b[38;5;241m=\u001b[39m torch\u001b[38;5;241m.\u001b[39mtensor(y_test, dtype\u001b[38;5;241m=\u001b[39mtorch\u001b[38;5;241m.\u001b[39mfloat32)\u001b[38;5;241m.\u001b[39mto(device)\n\u001b[0;32m      4\u001b[0m batch_size \u001b[38;5;241m=\u001b[39m \u001b[38;5;241m64\u001b[39m\n",
      "\u001b[1;31mNameError\u001b[0m: name 'torch' is not defined"
     ]
    }
   ],
   "source": [
    "X_test_tensor = torch.tensor(X_test, dtype=torch.float32).to(device)\n",
    "y_test_tensor = torch.tensor(y_test, dtype=torch.float32).to(device)\n",
    "\n",
    "batch_size = 64\n",
    "\n",
    "y_true = []\n",
    "y_pred = []\n",
    "\n",
    "num_samples = len(X_test_tensor[0])\n",
    "for i in range(0, num_samples, batch_size):\n",
    "    # Get the batch\n",
    "    X_batch = X_test_tensor[i:i+batch_size].to(device)\n",
    "    y_batch = y_test_tensor[i:i+batch_size].to(device)\n",
    "    \n",
    "    # Forward pass to get predictions\n",
    "    with torch.no_grad():\n",
    "        outputs = model(X_batch)\n",
    "        \n",
    "    # Convert outputs to binary predictions (0 or 1)\n",
    "    predicted = (outputs.squeeze() > 0.5).float()  # 0.5 threshold for binary classification\n",
    "    \n",
    "    # Append true labels and predicted labels\n",
    "    y_true.extend(y_batch.cpu().numpy())  # Move to CPU if necessary\n",
    "    y_pred.extend(predicted.cpu().numpy())  # Move to CPU if necessary\n",
    "\n",
    "# Calculate accuracy\n",
    "accuracy = accuracy_score(y_true, y_pred)\n",
    "\n",
    "# Print accuracy\n",
    "print(f'Accuracy: {accuracy * 100:.2f}%')\n"
   ]
  },
  {
   "cell_type": "code",
   "execution_count": null,
   "metadata": {},
   "outputs": [],
   "source": []
  }
 ],
 "metadata": {
  "kernelspec": {
   "display_name": "Python 3",
   "language": "python",
   "name": "python3"
  },
  "language_info": {
   "codemirror_mode": {
    "name": "ipython",
    "version": 3
   },
   "file_extension": ".py",
   "mimetype": "text/x-python",
   "name": "python",
   "nbconvert_exporter": "python",
   "pygments_lexer": "ipython3",
   "version": "3.12.8"
  }
 },
 "nbformat": 4,
 "nbformat_minor": 2
}
