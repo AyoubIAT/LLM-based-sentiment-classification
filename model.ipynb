{
 "cells": [
  {
   "cell_type": "markdown",
   "metadata": {},
   "source": [
    "## Choix du modèle"
   ]
  },
  {
   "cell_type": "code",
   "execution_count": 1,
   "metadata": {},
   "outputs": [],
   "source": [
    "import pandas as pd"
   ]
  },
  {
   "cell_type": "code",
   "execution_count": 2,
   "metadata": {},
   "outputs": [
    {
     "name": "stdout",
     "output_type": "stream",
     "text": [
      "    Lemmatized_text  sentiment_class  \\\n",
      "0  I d respond I go                1   \n",
      "1          sooo sad                0   \n",
      "2             bully                0   \n",
      "3       leave alone                0   \n",
      "4               son                0   \n",
      "\n",
      "                                           embedding  \n",
      "0  [0.06796861, 0.040928762, 0.55155236, 0.046819...  \n",
      "1  [-0.40863672, 0.018741956, 0.28224555, -0.0832...  \n",
      "2  [-0.18284881, -0.20311181, 0.0313804, 0.090188...  \n",
      "3  [-0.2106998, 0.21191975, 0.27315107, -0.007649...  \n",
      "4  [-0.49731395, -0.030200623, 0.3148676, -0.1591...  \n"
     ]
    }
   ],
   "source": [
    "train_df = pd.read_pickle(\"data_with_embeddings.pkl\")\n",
    "test_df = pd.read_pickle(\"test_data_with_embeddings.pkl\")\n",
    "print(train_df.head())"
   ]
  },
  {
   "cell_type": "code",
   "execution_count": 3,
   "metadata": {},
   "outputs": [
    {
     "name": "stdout",
     "output_type": "stream",
     "text": [
      "                                     Lemmatized_text  sentiment_class  \\\n",
      "0                                 last session day                  1   \n",
      "1    shanghai also really exciting precisely   sk...                2   \n",
      "2  recession hit veronique branquinho quit compan...                0   \n",
      "3                                         happy bday                2   \n",
      "4                                             I like                2   \n",
      "\n",
      "                                           embedding  \n",
      "0  [-0.23908548, -0.3650845, 0.15318011, 0.158759...  \n",
      "1  [0.2688022, -0.0052007497, 0.59913284, -0.0090...  \n",
      "2  [-0.14578836, -0.080994, 0.105144195, -0.05629...  \n",
      "3  [0.021845195, -0.11158047, 0.42320567, 0.00343...  \n",
      "4  [0.20166126, -0.08761377, 0.03170982, 0.018144...  \n"
     ]
    }
   ],
   "source": [
    "print(test_df.head())"
   ]
  },
  {
   "cell_type": "code",
   "execution_count": 4,
   "metadata": {},
   "outputs": [
    {
     "name": "stdout",
     "output_type": "stream",
     "text": [
      "27480\n",
      "768\n",
      "3534\n"
     ]
    }
   ],
   "source": [
    "X_train = list(train_df[\"embedding\"])\n",
    "y_train = train_df[\"sentiment_class\"]\n",
    "X_test = list(test_df[\"embedding\"])\n",
    "y_test = test_df[\"sentiment_class\"]\n",
    "\n",
    "print(len(X_train))\n",
    "print(len(X_train[0]))\n",
    "print(len(X_test))"
   ]
  },
  {
   "cell_type": "code",
   "execution_count": 5,
   "metadata": {},
   "outputs": [
    {
     "name": "stdout",
     "output_type": "stream",
     "text": [
      "\n",
      "Modèle : SVM\n",
      "Accuracy: 0.5257498585172609\n",
      "Classification Report:\n",
      "               precision    recall  f1-score   support\n",
      "\n",
      "           0       0.72      0.23      0.35      1001\n",
      "           1       0.46      0.91      0.61      1430\n",
      "           2       0.82      0.30      0.44      1103\n",
      "\n",
      "    accuracy                           0.53      3534\n",
      "   macro avg       0.67      0.48      0.47      3534\n",
      "weighted avg       0.65      0.53      0.48      3534\n",
      "\n",
      "\n",
      "Modèle : Random Forest\n",
      "Accuracy: 0.4663271080928127\n",
      "Classification Report:\n",
      "               precision    recall  f1-score   support\n",
      "\n",
      "           0       0.60      0.14      0.23      1001\n",
      "           1       0.43      0.92      0.58      1430\n",
      "           2       0.78      0.18      0.29      1103\n",
      "\n",
      "    accuracy                           0.47      3534\n",
      "   macro avg       0.61      0.41      0.37      3534\n",
      "weighted avg       0.59      0.47      0.39      3534\n",
      "\n"
     ]
    }
   ],
   "source": [
    "from sklearn.svm import SVC\n",
    "from sklearn.ensemble import RandomForestClassifier\n",
    "from sklearn.preprocessing import StandardScaler\n",
    "from sklearn.metrics import accuracy_score, classification_report\n",
    "\n",
    "# Normalisation (utile pour SVM)\n",
    "scaler = StandardScaler()\n",
    "X_train_scaled = scaler.fit_transform(X_train)\n",
    "X_test_scaled = scaler.transform(X_test)\n",
    "\n",
    "# Modèles\n",
    "models = {\n",
    "    \"SVM\": SVC(kernel=\"rbf\", C=1.0, random_state=42),\n",
    "    \"Random Forest\": RandomForestClassifier(random_state=42)\n",
    "}\n",
    "\n",
    "# Entraînement et test\n",
    "for name, model in models.items():\n",
    "    if name == \"SVM\":\n",
    "        model.fit(X_train_scaled, y_train)  # SVM avec données normalisées\n",
    "        y_pred = model.predict(X_test_scaled)\n",
    "    else:\n",
    "        model.fit(X_train, y_train)  # Random Forest sans normalisation\n",
    "        y_pred = model.predict(X_test)\n",
    "    \n",
    "    # Évaluation\n",
    "    print(f\"\\nModèle : {name}\")\n",
    "    print(\"Accuracy:\", accuracy_score(y_test, y_pred))\n",
    "    print(\"Classification Report:\\n\", classification_report(y_test, y_pred))\n"
   ]
  },
  {
   "cell_type": "code",
   "execution_count": null,
   "metadata": {},
   "outputs": [],
   "source": []
  }
 ],
 "metadata": {
  "kernelspec": {
   "display_name": "Python 3",
   "language": "python",
   "name": "python3"
  },
  "language_info": {
   "codemirror_mode": {
    "name": "ipython",
    "version": 3
   },
   "file_extension": ".py",
   "mimetype": "text/x-python",
   "name": "python",
   "nbconvert_exporter": "python",
   "pygments_lexer": "ipython3",
   "version": "3.12.8"
  }
 },
 "nbformat": 4,
 "nbformat_minor": 2
}
