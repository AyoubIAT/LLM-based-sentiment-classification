{
 "cells": [
  {
   "cell_type": "markdown",
   "metadata": {},
   "source": [
    "## Traditional Text Vectorization"
   ]
  },
  {
   "cell_type": "code",
   "execution_count": 2,
   "metadata": {},
   "outputs": [],
   "source": [
    "import pandas as pd\n",
    "import numpy as np"
   ]
  },
  {
   "cell_type": "code",
   "execution_count": 5,
   "metadata": {},
   "outputs": [
    {
     "name": "stdout",
     "output_type": "stream",
     "text": [
      "    Lemmatized_text  sentiment_class\n",
      "0  I d respond I go                1\n",
      "1          sooo sad                0\n",
      "2             bully                0\n",
      "3       leave alone                0\n",
      "4               son                0\n",
      "                                     Lemmatized_text  sentiment_class\n",
      "0                                 last session day                  1\n",
      "1    shanghai also really exciting precisely   sk...                2\n",
      "2  recession hit veronique branquinho quit compan...                0\n",
      "3                                         happy bday                2\n",
      "4                                             I like                2\n"
     ]
    }
   ],
   "source": [
    "train_df = pd.read_pickle(\"clean_train_data.pkl\")\n",
    "test_df = pd.read_pickle(\"clean_test_data.pkl\")\n",
    "print(train_df.head())\n",
    "print(test_df.head())"
   ]
  },
  {
   "cell_type": "code",
   "execution_count": 7,
   "metadata": {},
   "outputs": [],
   "source": [
    "# TF-IDf\n",
    "from sklearn.feature_extraction.text import TfidfVectorizer\n",
    "\n",
    "tfidf_vectorizer = TfidfVectorizer()\n",
    "tfidf_features = tfidf_vectorizer.fit_transform(train_df['Lemmatized_text'])"
   ]
  },
  {
   "cell_type": "code",
   "execution_count": 8,
   "metadata": {},
   "outputs": [
    {
     "data": {
      "text/plain": [
       "<Compressed Sparse Row sparse matrix of dtype 'float64'\n",
       "\twith 114780 stored elements and shape (27480, 15452)>"
      ]
     },
     "execution_count": 8,
     "metadata": {},
     "output_type": "execute_result"
    }
   ],
   "source": [
    "tfidf_features"
   ]
  },
  {
   "cell_type": "code",
   "execution_count": 9,
   "metadata": {},
   "outputs": [
    {
     "name": "stdout",
     "output_type": "stream",
     "text": [
      "Reduced features shape: (27480, 5000)\n",
      "Explained variance ratio: [1.85213901e-02 1.77483296e-02 1.63784080e-02 ... 2.28594305e-05\n",
      " 2.28290326e-05 2.28103713e-05]\n"
     ]
    }
   ],
   "source": [
    "# PCA to reduce dimension\n",
    "from sklearn.decomposition import PCA\n",
    "\n",
    "tfidf_dense = tfidf_features.toarray()\n",
    "\n",
    "pca = PCA(n_components=5000)\n",
    "pca_features = pca.fit_transform(tfidf_dense)\n",
    "\n",
    "print(f'Reduced features shape: {pca_features.shape}')\n",
    "print(f'Explained variance ratio: {pca.explained_variance_ratio_}')"
   ]
  },
  {
   "cell_type": "code",
   "execution_count": 10,
   "metadata": {},
   "outputs": [
    {
     "name": "stdout",
     "output_type": "stream",
     "text": [
      "Explained variance ratio: 0.9175500384772406\n"
     ]
    }
   ],
   "source": [
    "total_explained_variance = pca.explained_variance_ratio_.sum()\n",
    "print(f'Explained variance ratio: {total_explained_variance}')"
   ]
  },
  {
   "cell_type": "code",
   "execution_count": 22,
   "metadata": {},
   "outputs": [],
   "source": [
    "tfidf_test_features = tfidf_vectorizer.transform(test_df['Lemmatized_text'])\n",
    "tfidf_test_dense = tfidf_test_features.toarray()"
   ]
  },
  {
   "cell_type": "code",
   "execution_count": 23,
   "metadata": {},
   "outputs": [],
   "source": [
    "X_train = pca_features\n",
    "y_train = train_df[\"sentiment_class\"]\n",
    "X_test = pca.transform(tfidf_test_dense)\n",
    "y_test = test_df[\"sentiment_class\"]"
   ]
  },
  {
   "cell_type": "code",
   "execution_count": 26,
   "metadata": {},
   "outputs": [
    {
     "name": "stdout",
     "output_type": "stream",
     "text": [
      "27480\n",
      "5000\n",
      "3534\n"
     ]
    }
   ],
   "source": [
    "print(len(X_train))\n",
    "print(len(X_train[0]))\n",
    "print(len(X_test))"
   ]
  },
  {
   "cell_type": "markdown",
   "metadata": {},
   "source": [
    "## Modèle NN"
   ]
  },
  {
   "cell_type": "code",
   "execution_count": 19,
   "metadata": {},
   "outputs": [
    {
     "data": {
      "text/plain": [
       "5000"
      ]
     },
     "execution_count": 19,
     "metadata": {},
     "output_type": "execute_result"
    }
   ],
   "source": [
    "import numpy as np\n",
    "X_train = np.array(X_train)\n",
    "y_train = np.array(y_train)\n",
    "X_test = np.array(X_train)\n",
    "y_test = np.array(y_train)"
   ]
  },
  {
   "cell_type": "code",
   "execution_count": 27,
   "metadata": {},
   "outputs": [],
   "source": [
    "import torch\n",
    "import torch.nn as nn\n",
    "import torch.optim as optim\n",
    "from torch.utils.data import DataLoader, TensorDataset"
   ]
  },
  {
   "cell_type": "code",
   "execution_count": 28,
   "metadata": {},
   "outputs": [],
   "source": [
    "device = \"cuda\""
   ]
  },
  {
   "cell_type": "code",
   "execution_count": 29,
   "metadata": {},
   "outputs": [],
   "source": [
    "X_train_tensor = torch.tensor(X_train, dtype=torch.float32).to(device)\n",
    "y_train_tensor = torch.tensor(y_train, dtype=torch.long).to(device)"
   ]
  },
  {
   "cell_type": "code",
   "execution_count": 30,
   "metadata": {},
   "outputs": [],
   "source": [
    "train_data = TensorDataset(X_train_tensor, y_train_tensor)\n",
    "train_loader = DataLoader(train_data, batch_size=128, shuffle=True)"
   ]
  },
  {
   "cell_type": "code",
   "execution_count": 36,
   "metadata": {},
   "outputs": [
    {
     "name": "stdout",
     "output_type": "stream",
     "text": [
      "5000\n"
     ]
    }
   ],
   "source": [
    "class NN(nn.Module):\n",
    "    def __init__(self, input_dim):\n",
    "        super(NN, self).__init__()\n",
    "        \n",
    "        self.fc1 = nn.Linear(input_dim, 4096)   \n",
    "        self.fc2 = nn.Linear(4096, 2048)        \n",
    "        self.fc3 = nn.Linear(2048, 1024)        \n",
    "        self.fc4 = nn.Linear(1024, 512)         \n",
    "        self.fc5 = nn.Linear(512, 256)          \n",
    "        self.fc6 = nn.Linear(256, 128)          \n",
    "        self.fc7 = nn.Linear(128, 64)           \n",
    "        self.fc8 = nn.Linear(64, 32)            \n",
    "        self.fc9 = nn.Linear(32, 16)            \n",
    "        self.fc10 = nn.Linear(16, 3)         \n",
    "        \n",
    "        self.gelu = nn.GELU()  \n",
    "    \n",
    "    def forward(self, x):\n",
    "        x = self.gelu(self.fc1(x))   \n",
    "        x = self.gelu(self.fc2(x))   \n",
    "        x = self.gelu(self.fc3(x))   \n",
    "        x = self.gelu(self.fc4(x))   \n",
    "        x = self.gelu(self.fc5(x))   \n",
    "        x = self.gelu(self.fc6(x))   \n",
    "        x = self.gelu(self.fc7(x))   \n",
    "        x = self.gelu(self.fc8(x))   \n",
    "        x = self.gelu(self.fc9(x))   \n",
    "        x = self.fc10(x)             \n",
    "        return x\n",
    "\n",
    "# Check the input dimension size\n",
    "print(len(X_train[0]))"
   ]
  },
  {
   "cell_type": "code",
   "execution_count": 37,
   "metadata": {},
   "outputs": [],
   "source": [
    "model = NN(input_dim=len(X_train[0])).to(device)\n",
    "loss_function = nn.CrossEntropyLoss()\n",
    "optimizer = optim.Adam(model.parameters(), lr=0.001)"
   ]
  },
  {
   "cell_type": "code",
   "execution_count": 38,
   "metadata": {},
   "outputs": [
    {
     "name": "stdout",
     "output_type": "stream",
     "text": [
      "Epoch 1, Loss: 0.6014074683189392\n",
      "Epoch 2, Loss: 0.3968317210674286\n",
      "Epoch 3, Loss: 0.5196322798728943\n",
      "Epoch 4, Loss: 0.3231646716594696\n",
      "Epoch 5, Loss: 0.2775110602378845\n",
      "Epoch 6, Loss: 0.376080721616745\n",
      "Epoch 7, Loss: 0.3188728392124176\n",
      "Epoch 8, Loss: 0.3699393570423126\n",
      "Epoch 9, Loss: 0.21034950017929077\n",
      "Epoch 10, Loss: 0.2720819413661957\n",
      "Epoch 11, Loss: 0.23757171630859375\n",
      "Epoch 12, Loss: 0.149859219789505\n",
      "Epoch 13, Loss: 0.2018383890390396\n",
      "Epoch 14, Loss: 0.2821100056171417\n",
      "Epoch 15, Loss: 0.18712888658046722\n",
      "Epoch 16, Loss: 0.07489898055791855\n",
      "Epoch 17, Loss: 0.22413448989391327\n",
      "Epoch 18, Loss: 0.16914302110671997\n",
      "Epoch 19, Loss: 0.08383259922266006\n",
      "Epoch 20, Loss: 0.0723608210682869\n",
      "Epoch 21, Loss: 0.12552812695503235\n",
      "Epoch 22, Loss: 0.10859191417694092\n",
      "Epoch 23, Loss: 0.09189684689044952\n",
      "Epoch 24, Loss: 0.06477409601211548\n",
      "Epoch 25, Loss: 0.20204010605812073\n",
      "Epoch 26, Loss: 0.21280993521213531\n",
      "Epoch 27, Loss: 0.1957506686449051\n",
      "Epoch 28, Loss: 0.027795903384685516\n",
      "Epoch 29, Loss: 0.033177219331264496\n",
      "Epoch 30, Loss: 0.12889395654201508\n",
      "Epoch 31, Loss: 0.1527566909790039\n",
      "Epoch 32, Loss: 0.12292759865522385\n",
      "Epoch 33, Loss: 0.06397806853055954\n",
      "Epoch 34, Loss: 0.08846889436244965\n",
      "Epoch 35, Loss: 0.05282625928521156\n",
      "Epoch 36, Loss: 0.12389659881591797\n",
      "Epoch 37, Loss: 0.06332964450120926\n",
      "Epoch 38, Loss: 0.16321901977062225\n",
      "Epoch 39, Loss: 0.11390571296215057\n",
      "Epoch 40, Loss: 0.15524321794509888\n",
      "Epoch 41, Loss: 0.02163022942841053\n",
      "Epoch 42, Loss: 0.05603048577904701\n",
      "Epoch 43, Loss: 0.06917807459831238\n",
      "Epoch 44, Loss: 0.03735622763633728\n",
      "Epoch 45, Loss: 0.15447260439395905\n",
      "Epoch 46, Loss: 0.05090145766735077\n",
      "Epoch 47, Loss: 0.031352151185274124\n",
      "Epoch 48, Loss: 0.0210199486464262\n",
      "Epoch 49, Loss: 0.029603136703372\n",
      "Epoch 50, Loss: 0.11705591529607773\n",
      "Epoch 51, Loss: 0.08553914725780487\n",
      "Epoch 52, Loss: 0.017514700070023537\n",
      "Epoch 53, Loss: 0.05695272609591484\n",
      "Epoch 54, Loss: 0.0767999216914177\n",
      "Epoch 55, Loss: 0.041954394429922104\n",
      "Epoch 56, Loss: 0.15899473428726196\n",
      "Epoch 57, Loss: 0.03216564282774925\n",
      "Epoch 58, Loss: 0.04093578830361366\n",
      "Epoch 59, Loss: 0.0573996864259243\n",
      "Epoch 60, Loss: 0.03718079254031181\n",
      "Epoch 61, Loss: 0.066730797290802\n",
      "Epoch 62, Loss: 0.04158490523695946\n",
      "Epoch 63, Loss: 0.0780162438750267\n",
      "Epoch 64, Loss: 0.0750441625714302\n",
      "Epoch 65, Loss: 0.080587238073349\n",
      "Epoch 66, Loss: 0.039045292884111404\n",
      "Epoch 67, Loss: 0.019517408683896065\n",
      "Epoch 68, Loss: 0.027949661016464233\n",
      "Epoch 69, Loss: 0.02052498795092106\n",
      "Epoch 70, Loss: 0.05646780505776405\n",
      "Epoch 71, Loss: 0.023032115772366524\n",
      "Epoch 72, Loss: 0.03399224579334259\n",
      "Epoch 73, Loss: 0.049326810985803604\n",
      "Epoch 74, Loss: 0.058369290083646774\n",
      "Epoch 75, Loss: 0.0799284428358078\n",
      "Epoch 76, Loss: 0.033220525830984116\n",
      "Epoch 77, Loss: 0.01707669161260128\n",
      "Epoch 78, Loss: 0.08439819514751434\n",
      "Epoch 79, Loss: 0.0780438706278801\n",
      "Epoch 80, Loss: 0.0448903888463974\n",
      "Epoch 81, Loss: 0.04955952987074852\n",
      "Epoch 82, Loss: 0.0714709684252739\n",
      "Epoch 83, Loss: 0.03898865729570389\n",
      "Epoch 84, Loss: 0.022118981927633286\n",
      "Epoch 85, Loss: 0.09678959846496582\n",
      "Epoch 86, Loss: 0.0146334795281291\n",
      "Epoch 87, Loss: 0.026336224749684334\n",
      "Epoch 88, Loss: 0.034078292548656464\n",
      "Epoch 89, Loss: 0.01536411140114069\n",
      "Epoch 90, Loss: 0.02564769983291626\n",
      "Epoch 91, Loss: 0.17195303738117218\n",
      "Epoch 92, Loss: 0.03828543797135353\n",
      "Epoch 93, Loss: 0.02300751768052578\n",
      "Epoch 94, Loss: 0.0385131798684597\n",
      "Epoch 95, Loss: 0.04116117209196091\n",
      "Epoch 96, Loss: 0.17138123512268066\n",
      "Epoch 97, Loss: 0.07671772688627243\n",
      "Epoch 98, Loss: 0.024511082097887993\n",
      "Epoch 99, Loss: 0.021302279084920883\n",
      "Epoch 100, Loss: 0.029191898182034492\n"
     ]
    }
   ],
   "source": [
    "num_epochs = 100\n",
    "for epoch in range(num_epochs):\n",
    "    model.train()\n",
    "    for batch in train_loader:\n",
    "        X_batch, y_batch = batch\n",
    "        X_batch, y_batch = X_batch.to(device), y_batch.to(device)\n",
    "        \n",
    "        optimizer.zero_grad()\n",
    "        outputs = model(X_batch)\n",
    "        loss = loss_function(outputs.squeeze(), y_batch)\n",
    "        loss.backward()\n",
    "        optimizer.step()\n",
    "    \n",
    "    print(f\"Epoch {epoch+1}, Loss: {loss.item()}\")"
   ]
  },
  {
   "cell_type": "code",
   "execution_count": null,
   "metadata": {},
   "outputs": [
    {
     "name": "stdout",
     "output_type": "stream",
     "text": [
      "Accuracy: 57.58%\n"
     ]
    }
   ],
   "source": [
    "import torch\n",
    "from sklearn.metrics import accuracy_score\n",
    "\n",
    "# Ensure labels are in the correct format for multi-class classification\n",
    "X_test_tensor = torch.tensor(X_test, dtype=torch.float32).to(device)\n",
    "y_test_tensor = torch.tensor(y_test, dtype=torch.long).to(device)\n",
    "\n",
    "batch_size = 64\n",
    "\n",
    "y_true = []\n",
    "y_pred = []\n",
    "\n",
    "num_samples = len(X_test_tensor)  # Number of samples, not features\n",
    "for i in range(0, num_samples, batch_size):\n",
    "    # Get the batch\n",
    "    X_batch = X_test_tensor[i:i+batch_size].to(device)\n",
    "    y_batch = y_test_tensor[i:i+batch_size].to(device)\n",
    "    \n",
    "    # Forward pass to get predictions\n",
    "    with torch.no_grad():\n",
    "        outputs = model(X_batch)\n",
    "        \n",
    "    # Convert outputs to predicted class indices (class with the highest probability)\n",
    "    predicted = torch.argmax(outputs, dim=1)  # Get the class with the highest probability\n",
    "    \n",
    "    # Append true labels and predicted labels\n",
    "    y_true.extend(y_batch.cpu().numpy())  \n",
    "    y_pred.extend(predicted.cpu().numpy()) \n",
    "\n",
    "# Calculate accuracy\n",
    "accuracy = accuracy_score(y_true, y_pred)\n",
    "\n",
    "# Print accuracy\n",
    "print(f'Accuracy: {accuracy * 100:.2f}%')\n"
   ]
  },
  {
   "cell_type": "code",
   "execution_count": null,
   "metadata": {},
   "outputs": [],
   "source": []
  }
 ],
 "metadata": {
  "kernelspec": {
   "display_name": "Python 3",
   "language": "python",
   "name": "python3"
  },
  "language_info": {
   "codemirror_mode": {
    "name": "ipython",
    "version": 3
   },
   "file_extension": ".py",
   "mimetype": "text/x-python",
   "name": "python",
   "nbconvert_exporter": "python",
   "pygments_lexer": "ipython3",
   "version": "3.12.8"
  }
 },
 "nbformat": 4,
 "nbformat_minor": 2
}
