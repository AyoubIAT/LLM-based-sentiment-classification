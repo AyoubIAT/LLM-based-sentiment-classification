{
 "cells": [
  {
   "cell_type": "markdown",
   "metadata": {},
   "source": [
    "## Traditional Text Vectorization"
   ]
  },
  {
   "cell_type": "code",
   "execution_count": 2,
   "metadata": {},
   "outputs": [],
   "source": [
    "import pandas as pd\n",
    "import numpy as np"
   ]
  },
  {
   "cell_type": "code",
   "execution_count": 5,
   "metadata": {},
   "outputs": [
    {
     "name": "stdout",
     "output_type": "stream",
     "text": [
      "    Lemmatized_text  sentiment_class\n",
      "0  I d respond I go                1\n",
      "1          sooo sad                0\n",
      "2             bully                0\n",
      "3       leave alone                0\n",
      "4               son                0\n",
      "                                     Lemmatized_text  sentiment_class\n",
      "0                                 last session day                  1\n",
      "1    shanghai also really exciting precisely   sk...                2\n",
      "2  recession hit veronique branquinho quit compan...                0\n",
      "3                                         happy bday                2\n",
      "4                                             I like                2\n"
     ]
    }
   ],
   "source": [
    "train_df = pd.read_pickle(\"clean_train_data.pkl\")\n",
    "test_df = pd.read_pickle(\"clean_test_data.pkl\")\n",
    "print(train_df.head())\n",
    "print(test_df.head())"
   ]
  },
  {
   "cell_type": "code",
   "execution_count": 7,
   "metadata": {},
   "outputs": [],
   "source": [
    "# TF-IDf\n",
    "from sklearn.feature_extraction.text import TfidfVectorizer\n",
    "\n",
    "tfidf_vectorizer = TfidfVectorizer()\n",
    "tfidf_features = tfidf_vectorizer.fit_transform(train_df['Lemmatized_text'])"
   ]
  },
  {
   "cell_type": "code",
   "execution_count": 8,
   "metadata": {},
   "outputs": [
    {
     "data": {
      "text/plain": [
       "<Compressed Sparse Row sparse matrix of dtype 'float64'\n",
       "\twith 114780 stored elements and shape (27480, 15452)>"
      ]
     },
     "execution_count": 8,
     "metadata": {},
     "output_type": "execute_result"
    }
   ],
   "source": [
    "tfidf_features"
   ]
  },
  {
   "cell_type": "code",
   "execution_count": 9,
   "metadata": {},
   "outputs": [
    {
     "name": "stdout",
     "output_type": "stream",
     "text": [
      "Reduced features shape: (27480, 5000)\n",
      "Explained variance ratio: [1.85213901e-02 1.77483296e-02 1.63784080e-02 ... 2.28594305e-05\n",
      " 2.28290326e-05 2.28103713e-05]\n"
     ]
    }
   ],
   "source": [
    "# PCA to reduce dimension\n",
    "from sklearn.decomposition import PCA\n",
    "\n",
    "tfidf_dense = tfidf_features.toarray()\n",
    "\n",
    "pca = PCA(n_components=5000)\n",
    "pca_features = pca.fit_transform(tfidf_dense)\n",
    "\n",
    "print(f'Reduced features shape: {pca_features.shape}')\n",
    "print(f'Explained variance ratio: {pca.explained_variance_ratio_}')"
   ]
  },
  {
   "cell_type": "code",
   "execution_count": 10,
   "metadata": {},
   "outputs": [
    {
     "name": "stdout",
     "output_type": "stream",
     "text": [
      "Explained variance ratio: 0.9175500384772406\n"
     ]
    }
   ],
   "source": [
    "total_explained_variance = pca.explained_variance_ratio_.sum()\n",
    "print(f'Explained variance ratio: {total_explained_variance}')"
   ]
  },
  {
   "cell_type": "code",
   "execution_count": 22,
   "metadata": {},
   "outputs": [],
   "source": [
    "tfidf_test_features = tfidf_vectorizer.transform(test_df['Lemmatized_text'])\n",
    "tfidf_test_dense = tfidf_test_features.toarray()"
   ]
  },
  {
   "cell_type": "code",
   "execution_count": 23,
   "metadata": {},
   "outputs": [],
   "source": [
    "X_train = pca_features\n",
    "y_train = train_df[\"sentiment_class\"]\n",
    "X_test = pca.transform(tfidf_test_dense)\n",
    "y_test = test_df[\"sentiment_class\"]"
   ]
  },
  {
   "cell_type": "code",
   "execution_count": 26,
   "metadata": {},
   "outputs": [
    {
     "name": "stdout",
     "output_type": "stream",
     "text": [
      "27480\n",
      "5000\n",
      "3534\n"
     ]
    }
   ],
   "source": [
    "print(len(X_train))\n",
    "print(len(X_train[0]))\n",
    "print(len(X_test))"
   ]
  },
  {
   "cell_type": "markdown",
   "metadata": {},
   "source": [
    "## Modèle NN"
   ]
  },
  {
   "cell_type": "code",
   "execution_count": 19,
   "metadata": {},
   "outputs": [
    {
     "data": {
      "text/plain": [
       "5000"
      ]
     },
     "execution_count": 19,
     "metadata": {},
     "output_type": "execute_result"
    }
   ],
   "source": [
    "import numpy as np\n",
    "X_train = np.array(X_train)\n",
    "y_train = np.array(y_train)\n",
    "X_test = np.array(X_train)\n",
    "y_test = np.array(y_train)"
   ]
  },
  {
   "cell_type": "code",
   "execution_count": 27,
   "metadata": {},
   "outputs": [],
   "source": [
    "import torch\n",
    "import torch.nn as nn\n",
    "import torch.optim as optim\n",
    "from torch.utils.data import DataLoader, TensorDataset"
   ]
  },
  {
   "cell_type": "code",
   "execution_count": 28,
   "metadata": {},
   "outputs": [],
   "source": [
    "device = \"cuda\""
   ]
  },
  {
   "cell_type": "code",
   "execution_count": 29,
   "metadata": {},
   "outputs": [],
   "source": [
    "X_train_tensor = torch.tensor(X_train, dtype=torch.float32).to(device)\n",
    "y_train_tensor = torch.tensor(y_train, dtype=torch.long).to(device)"
   ]
  },
  {
   "cell_type": "code",
   "execution_count": 30,
   "metadata": {},
   "outputs": [],
   "source": [
    "train_data = TensorDataset(X_train_tensor, y_train_tensor)\n",
    "train_loader = DataLoader(train_data, batch_size=128, shuffle=True)"
   ]
  },
  {
   "cell_type": "code",
   "execution_count": 31,
   "metadata": {},
   "outputs": [
    {
     "name": "stdout",
     "output_type": "stream",
     "text": [
      "5000\n"
     ]
    }
   ],
   "source": [
    "class NN(nn.Module):\n",
    "    def __init__(self, input_dim):\n",
    "        super(NN, self).__init__()\n",
    "        \n",
    "        self.fc1 = nn.Linear(input_dim, 2048)  \n",
    "        self.fc2 = nn.Linear(2048, 1024)       \n",
    "        self.fc3 = nn.Linear(1024, 512)        \n",
    "        self.fc4 = nn.Linear(512, 256)         \n",
    "        self.fc5 = nn.Linear(256, 128)         \n",
    "        self.fc6 = nn.Linear(128, 64)          \n",
    "        self.fc7 = nn.Linear(64, 3)            \n",
    "        \n",
    "        self.gelu = nn.GELU()  \n",
    "    \n",
    "    def forward(self, x):\n",
    "        x = self.gelu(self.fc1(x))  \n",
    "        x = self.gelu(self.fc2(x))  \n",
    "        x = self.gelu(self.fc3(x))  \n",
    "        x = self.gelu(self.fc4(x))  \n",
    "        x = self.gelu(self.fc5(x))  \n",
    "        x = self.gelu(self.fc6(x))  \n",
    "        x = self.fc7(x)             \n",
    "        return x\n",
    "\n",
    "# Check the input dimension size\n",
    "print(len(X_train[0]))"
   ]
  },
  {
   "cell_type": "code",
   "execution_count": 33,
   "metadata": {},
   "outputs": [],
   "source": [
    "model = NN(input_dim=len(X_train[0])).to(device)\n",
    "loss_function = nn.CrossEntropyLoss()\n",
    "optimizer = optim.Adam(model.parameters(), lr=0.001)"
   ]
  },
  {
   "cell_type": "code",
   "execution_count": 34,
   "metadata": {},
   "outputs": [
    {
     "name": "stdout",
     "output_type": "stream",
     "text": [
      "Epoch 1, Loss: 0.43523934483528137\n",
      "Epoch 2, Loss: 0.4202541410923004\n",
      "Epoch 3, Loss: 0.4968375265598297\n",
      "Epoch 4, Loss: 0.3690131902694702\n",
      "Epoch 5, Loss: 0.3731940984725952\n",
      "Epoch 6, Loss: 0.33698198199272156\n",
      "Epoch 7, Loss: 0.3597392141819\n",
      "Epoch 8, Loss: 0.43736952543258667\n",
      "Epoch 9, Loss: 0.19738934934139252\n",
      "Epoch 10, Loss: 0.21385253965854645\n",
      "Epoch 11, Loss: 0.2678065598011017\n",
      "Epoch 12, Loss: 0.1631861925125122\n",
      "Epoch 13, Loss: 0.22807294130325317\n",
      "Epoch 14, Loss: 0.11542239785194397\n",
      "Epoch 15, Loss: 0.09125786274671555\n",
      "Epoch 16, Loss: 0.26698118448257446\n",
      "Epoch 17, Loss: 0.29427334666252136\n",
      "Epoch 18, Loss: 0.0758037269115448\n",
      "Epoch 19, Loss: 0.15562915802001953\n",
      "Epoch 20, Loss: 0.16036346554756165\n",
      "Epoch 21, Loss: 0.1259487271308899\n",
      "Epoch 22, Loss: 0.1480122208595276\n",
      "Epoch 23, Loss: 0.15441717207431793\n",
      "Epoch 24, Loss: 0.16064126789569855\n",
      "Epoch 25, Loss: 0.07942800223827362\n",
      "Epoch 26, Loss: 0.1316019743680954\n",
      "Epoch 27, Loss: 0.1478373408317566\n",
      "Epoch 28, Loss: 0.0728161409497261\n",
      "Epoch 29, Loss: 0.1235346868634224\n",
      "Epoch 30, Loss: 0.06853915005922318\n",
      "Epoch 31, Loss: 0.11200788617134094\n",
      "Epoch 32, Loss: 0.15108998119831085\n",
      "Epoch 33, Loss: 0.03283320367336273\n",
      "Epoch 34, Loss: 0.1475500464439392\n",
      "Epoch 35, Loss: 0.1353028118610382\n",
      "Epoch 36, Loss: 0.0903458297252655\n",
      "Epoch 37, Loss: 0.03548600152134895\n",
      "Epoch 38, Loss: 0.11603889614343643\n",
      "Epoch 39, Loss: 0.10794904828071594\n",
      "Epoch 40, Loss: 0.06356599181890488\n",
      "Epoch 41, Loss: 0.1096934974193573\n",
      "Epoch 42, Loss: 0.1572740525007248\n",
      "Epoch 43, Loss: 0.09591991454362869\n",
      "Epoch 44, Loss: 0.06309551000595093\n",
      "Epoch 45, Loss: 0.047787416726350784\n",
      "Epoch 46, Loss: 0.0732521340250969\n",
      "Epoch 47, Loss: 0.09767541289329529\n",
      "Epoch 48, Loss: 0.07618886977434158\n",
      "Epoch 49, Loss: 0.09604441374540329\n",
      "Epoch 50, Loss: 0.05174844339489937\n",
      "Epoch 51, Loss: 0.07379062473773956\n",
      "Epoch 52, Loss: 0.16493798792362213\n",
      "Epoch 53, Loss: 0.06983855366706848\n",
      "Epoch 54, Loss: 0.02623244933784008\n",
      "Epoch 55, Loss: 0.13767722249031067\n",
      "Epoch 56, Loss: 0.009740736335515976\n",
      "Epoch 57, Loss: 0.028332965448498726\n",
      "Epoch 58, Loss: 0.056381676346063614\n",
      "Epoch 59, Loss: 0.04648331552743912\n",
      "Epoch 60, Loss: 0.05121530592441559\n",
      "Epoch 61, Loss: 0.11726240813732147\n",
      "Epoch 62, Loss: 0.03379562497138977\n",
      "Epoch 63, Loss: 0.036057837307453156\n",
      "Epoch 64, Loss: 0.03656582534313202\n",
      "Epoch 65, Loss: 0.049126848578453064\n",
      "Epoch 66, Loss: 0.0767902359366417\n",
      "Epoch 67, Loss: 0.07640331983566284\n",
      "Epoch 68, Loss: 0.06499724090099335\n",
      "Epoch 69, Loss: 0.047363653779029846\n",
      "Epoch 70, Loss: 0.09616012871265411\n",
      "Epoch 71, Loss: 0.04990845546126366\n",
      "Epoch 72, Loss: 0.15401707589626312\n",
      "Epoch 73, Loss: 0.07672569155693054\n",
      "Epoch 74, Loss: 0.062329329550266266\n",
      "Epoch 75, Loss: 0.19217549264431\n",
      "Epoch 76, Loss: 0.03723045438528061\n",
      "Epoch 77, Loss: 0.08760220557451248\n",
      "Epoch 78, Loss: 0.02863817662000656\n",
      "Epoch 79, Loss: 0.018726157024502754\n",
      "Epoch 80, Loss: 0.019075460731983185\n",
      "Epoch 81, Loss: 0.12119244784116745\n",
      "Epoch 82, Loss: 0.08323483169078827\n",
      "Epoch 83, Loss: 0.018054651096463203\n",
      "Epoch 84, Loss: 0.05590342357754707\n",
      "Epoch 85, Loss: 0.047815609723329544\n",
      "Epoch 86, Loss: 0.04522198438644409\n",
      "Epoch 87, Loss: 0.04596992954611778\n",
      "Epoch 88, Loss: 0.08426187187433243\n",
      "Epoch 89, Loss: 0.04699878394603729\n",
      "Epoch 90, Loss: 0.055589042603969574\n",
      "Epoch 91, Loss: 0.08232922106981277\n",
      "Epoch 92, Loss: 0.01592724770307541\n",
      "Epoch 93, Loss: 0.06613077223300934\n",
      "Epoch 94, Loss: 0.061080850660800934\n",
      "Epoch 95, Loss: 0.05396479368209839\n",
      "Epoch 96, Loss: 0.07432042062282562\n",
      "Epoch 97, Loss: 0.05650435760617256\n",
      "Epoch 98, Loss: 0.12634152173995972\n",
      "Epoch 99, Loss: 0.011485324241220951\n",
      "Epoch 100, Loss: 0.024013562127947807\n"
     ]
    }
   ],
   "source": [
    "num_epochs = 100\n",
    "for epoch in range(num_epochs):\n",
    "    model.train()\n",
    "    for batch in train_loader:\n",
    "        X_batch, y_batch = batch\n",
    "        X_batch, y_batch = X_batch.to(device), y_batch.to(device)\n",
    "        \n",
    "        optimizer.zero_grad()\n",
    "        outputs = model(X_batch)\n",
    "        loss = loss_function(outputs.squeeze(), y_batch)\n",
    "        loss.backward()\n",
    "        optimizer.step()\n",
    "    \n",
    "    print(f\"Epoch {epoch+1}, Loss: {loss.item()}\")"
   ]
  },
  {
   "cell_type": "code",
   "execution_count": 35,
   "metadata": {},
   "outputs": [
    {
     "name": "stdout",
     "output_type": "stream",
     "text": [
      "Accuracy: 58.04%\n"
     ]
    }
   ],
   "source": [
    "import torch\n",
    "from sklearn.metrics import accuracy_score\n",
    "\n",
    "# Ensure labels are in the correct format for multi-class classification\n",
    "X_test_tensor = torch.tensor(X_test, dtype=torch.float32).to(device)\n",
    "y_test_tensor = torch.tensor(y_test, dtype=torch.long).to(device)  # Use torch.long for multi-class labels\n",
    "\n",
    "batch_size = 64\n",
    "\n",
    "y_true = []\n",
    "y_pred = []\n",
    "\n",
    "num_samples = len(X_test_tensor)  # Number of samples, not features\n",
    "for i in range(0, num_samples, batch_size):\n",
    "    # Get the batch\n",
    "    X_batch = X_test_tensor[i:i+batch_size].to(device)\n",
    "    y_batch = y_test_tensor[i:i+batch_size].to(device)\n",
    "    \n",
    "    # Forward pass to get predictions\n",
    "    with torch.no_grad():\n",
    "        outputs = model(X_batch)\n",
    "        \n",
    "    # Convert outputs to predicted class indices (class with the highest probability)\n",
    "    predicted = torch.argmax(outputs, dim=1)  # Get the class with the highest probability\n",
    "    \n",
    "    # Append true labels and predicted labels\n",
    "    y_true.extend(y_batch.cpu().numpy())  # Move to CPU if necessary\n",
    "    y_pred.extend(predicted.cpu().numpy())  # Move to CPU if necessary\n",
    "\n",
    "# Calculate accuracy\n",
    "accuracy = accuracy_score(y_true, y_pred)\n",
    "\n",
    "# Print accuracy\n",
    "print(f'Accuracy: {accuracy * 100:.2f}%')\n"
   ]
  },
  {
   "cell_type": "code",
   "execution_count": null,
   "metadata": {},
   "outputs": [],
   "source": []
  }
 ],
 "metadata": {
  "kernelspec": {
   "display_name": "Python 3",
   "language": "python",
   "name": "python3"
  },
  "language_info": {
   "codemirror_mode": {
    "name": "ipython",
    "version": 3
   },
   "file_extension": ".py",
   "mimetype": "text/x-python",
   "name": "python",
   "nbconvert_exporter": "python",
   "pygments_lexer": "ipython3",
   "version": "3.12.8"
  }
 },
 "nbformat": 4,
 "nbformat_minor": 2
}
